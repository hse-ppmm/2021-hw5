{
  "nbformat": 4,
  "nbformat_minor": 0,
  "metadata": {
    "colab": {
      "name": "Seminar_5_LDA_QDA_and_kNN.ipynb",
      "provenance": [],
      "collapsed_sections": []
    },
    "kernelspec": {
      "name": "python3",
      "display_name": "Python 3"
    }
  },
  "cells": [
    {
      "cell_type": "markdown",
      "metadata": {
        "id": "DZer04Ae8mrN"
      },
      "source": [
        "# Семинар 5. Методы классификации\n",
        "\n",
        "## Линейный дискриминационный анализ (LDA), Квадратичный дискриминационный анализ (QDA), метод k ближайших соседей (kNN)\n",
        "\n",
        "(использованы материалы курса [Машинное обучение в Питоне](https://www.hse.ru/edu/courses/450323352))\n"
      ]
    },
    {
      "cell_type": "markdown",
      "metadata": {
        "id": "itDYbo1cY2Kf"
      },
      "source": [
        "## Настройка окружения и предобработка данных\n",
        "(см. Семинар 3)"
      ]
    },
    {
      "cell_type": "code",
      "metadata": {
        "id": "xORwDc0FcfT2",
        "colab": {
          "base_uri": "https://localhost:8080/"
        },
        "outputId": "b9cb6f5b-d775-4e03-8e19-b304a5ec3235"
      },
      "source": [
        "# Установка библиотек и глобальных параметров\n",
        "!pip -q install --upgrade statsmodels\n",
        "\n",
        "from IPython.core.interactiveshell import InteractiveShell   \n",
        "InteractiveShell.ast_node_interactivity = \"all\"\n",
        "\n",
        "import numpy as np, pandas as pd, matplotlib.pylab as plt, seaborn as sns, statsmodels.api as sm\n",
        "from sklearn.model_selection import train_test_split as tts\n",
        "from sklearn.metrics import r2_score\n",
        "\n",
        "pd.set_option('max_rows', 15, 'max_columns', 500, 'max_colwidth', 1, 'precision', 2)\n",
        "np.set_printoptions(linewidth=10000, precision=4, edgeitems=20, suppress=True)\n",
        "plt.rcParams['figure.figsize'] = [16, 6]"
      ],
      "execution_count": null,
      "outputs": [
        {
          "output_type": "stream",
          "text": [
            "\u001b[K     |████████████████████████████████| 9.5MB 3.9MB/s \n",
            "\u001b[?25h"
          ],
          "name": "stdout"
        }
      ]
    },
    {
      "cell_type": "code",
      "metadata": {
        "id": "UXrg-sfxcrSG"
      },
      "source": [
        "csv_url = 'https://raw.githubusercontent.com/dsindy/kaggle-titanic/master/data/train.csv'\n",
        "df = pd.read_csv(csv_url)\n",
        "df.columns=['psgr','srv','pcls','name','sex','age','sibsp','parch','tkt','fare','cab','emb']\n",
        "df.sex = 1*(df.sex=='male')"
      ],
      "execution_count": null,
      "outputs": []
    },
    {
      "cell_type": "code",
      "metadata": {
        "id": "NPay0EtbeH67",
        "colab": {
          "base_uri": "https://localhost:8080/"
        },
        "outputId": "c3b7439f-171a-4d71-8d62-fd02eb74627b"
      },
      "source": [
        "df_filtered = df.drop(['cab', 'tkt', 'name'], axis=1)\n",
        "\n",
        "df_filtered[\"emb_is_S\"] = (df_filtered[\"emb\"] == \"S\").astype(int)\n",
        "df_filtered[\"emb_is_C\"] = (df_filtered[\"emb\"] == \"C\").astype(int)\n",
        "\n",
        "df_filtered = df_filtered.drop([\"emb\"], axis=1)\n",
        "\n",
        "median_age = df_filtered[\"age\"].median()\n",
        "print(\"Filling NA values with age\", median_age)\n",
        "df_filtered = df_filtered.fillna(median_age)\n",
        "\n",
        "fare_max = df_filtered['fare'].quantile(0.95)\n",
        "df_filtered.loc[df_filtered['fare'] > fare_max, \"fare\"] = fare_max\n",
        "\n",
        "sibsp_max = df_filtered['sibsp'].quantile(0.95)\n",
        "df_filtered.loc[df_filtered['sibsp'] > sibsp_max, \"sibsp\"] = sibsp_max"
      ],
      "execution_count": null,
      "outputs": [
        {
          "output_type": "stream",
          "text": [
            "Filling NA values with age 28.0\n"
          ],
          "name": "stdout"
        }
      ]
    },
    {
      "cell_type": "code",
      "metadata": {
        "id": "MYwofiXbfL2z",
        "colab": {
          "base_uri": "https://localhost:8080/",
          "height": 206
        },
        "outputId": "36ef1317-340f-4586-c34b-277660f09f2b"
      },
      "source": [
        "df_filtered.head()"
      ],
      "execution_count": null,
      "outputs": [
        {
          "output_type": "execute_result",
          "data": {
            "text/html": [
              "<div>\n",
              "<style scoped>\n",
              "    .dataframe tbody tr th:only-of-type {\n",
              "        vertical-align: middle;\n",
              "    }\n",
              "\n",
              "    .dataframe tbody tr th {\n",
              "        vertical-align: top;\n",
              "    }\n",
              "\n",
              "    .dataframe thead th {\n",
              "        text-align: right;\n",
              "    }\n",
              "</style>\n",
              "<table border=\"1\" class=\"dataframe\">\n",
              "  <thead>\n",
              "    <tr style=\"text-align: right;\">\n",
              "      <th></th>\n",
              "      <th>psgr</th>\n",
              "      <th>srv</th>\n",
              "      <th>pcls</th>\n",
              "      <th>sex</th>\n",
              "      <th>age</th>\n",
              "      <th>sibsp</th>\n",
              "      <th>parch</th>\n",
              "      <th>fare</th>\n",
              "      <th>emb_is_S</th>\n",
              "      <th>emb_is_C</th>\n",
              "    </tr>\n",
              "  </thead>\n",
              "  <tbody>\n",
              "    <tr>\n",
              "      <th>0</th>\n",
              "      <td>1</td>\n",
              "      <td>0</td>\n",
              "      <td>3</td>\n",
              "      <td>1</td>\n",
              "      <td>22.0</td>\n",
              "      <td>1.0</td>\n",
              "      <td>0</td>\n",
              "      <td>7.25</td>\n",
              "      <td>1</td>\n",
              "      <td>0</td>\n",
              "    </tr>\n",
              "    <tr>\n",
              "      <th>1</th>\n",
              "      <td>2</td>\n",
              "      <td>1</td>\n",
              "      <td>1</td>\n",
              "      <td>0</td>\n",
              "      <td>38.0</td>\n",
              "      <td>1.0</td>\n",
              "      <td>0</td>\n",
              "      <td>71.28</td>\n",
              "      <td>0</td>\n",
              "      <td>1</td>\n",
              "    </tr>\n",
              "    <tr>\n",
              "      <th>2</th>\n",
              "      <td>3</td>\n",
              "      <td>1</td>\n",
              "      <td>3</td>\n",
              "      <td>0</td>\n",
              "      <td>26.0</td>\n",
              "      <td>0.0</td>\n",
              "      <td>0</td>\n",
              "      <td>7.92</td>\n",
              "      <td>1</td>\n",
              "      <td>0</td>\n",
              "    </tr>\n",
              "    <tr>\n",
              "      <th>3</th>\n",
              "      <td>4</td>\n",
              "      <td>1</td>\n",
              "      <td>1</td>\n",
              "      <td>0</td>\n",
              "      <td>35.0</td>\n",
              "      <td>1.0</td>\n",
              "      <td>0</td>\n",
              "      <td>53.10</td>\n",
              "      <td>1</td>\n",
              "      <td>0</td>\n",
              "    </tr>\n",
              "    <tr>\n",
              "      <th>4</th>\n",
              "      <td>5</td>\n",
              "      <td>0</td>\n",
              "      <td>3</td>\n",
              "      <td>1</td>\n",
              "      <td>35.0</td>\n",
              "      <td>0.0</td>\n",
              "      <td>0</td>\n",
              "      <td>8.05</td>\n",
              "      <td>1</td>\n",
              "      <td>0</td>\n",
              "    </tr>\n",
              "  </tbody>\n",
              "</table>\n",
              "</div>"
            ],
            "text/plain": [
              "   psgr  srv  pcls  sex   age  sibsp  parch   fare  emb_is_S  emb_is_C\n",
              "0  1     0    3     1    22.0  1.0    0      7.25   1         0       \n",
              "1  2     1    1     0    38.0  1.0    0      71.28  0         1       \n",
              "2  3     1    3     0    26.0  0.0    0      7.92   1         0       \n",
              "3  4     1    1     0    35.0  1.0    0      53.10  1         0       \n",
              "4  5     0    3     1    35.0  0.0    0      8.05   1         0       "
            ]
          },
          "metadata": {
            "tags": []
          },
          "execution_count": 7
        }
      ]
    },
    {
      "cell_type": "markdown",
      "metadata": {
        "id": "4B7WNtob4xrt"
      },
      "source": [
        "# Линейный дискриминационный анализ (LDA)\n",
        "\n",
        "## Сравнение с логистической регрессией\n",
        "\n",
        "Логистическая регрессия не работает хорошо, когда:\n",
        "* классы хорошо разделены\n",
        "* * *n* мал и распределение предикторов *X* приблизительно нормально в каждом из классов\n",
        "* имеется > 2 целевых классов (необходимо расширение на несколько классов)\n",
        "\n",
        "## Using Bayes' Theorem for Classification\n",
        "\n",
        "*Теорема Байеса*:\n",
        "$$Pr(Y = k|X = x) = \\frac{Pr(Y = k) Pr(X = x | Y = k) }{\\sum_{l=1}^K Pr(Y = l) Pr(X = x | Y = l) }$$\n",
        "\n",
        "Или, если примем $\\pi_k = Pr(Y = k)$, $f_k(x) = Pr(X = x | Y = k)$:\n",
        "\n",
        "$$Pr(Y = k|X = x) = \\frac{\\pi_k f_k(x)}{\\sum_{l=1}^K \\pi_l f_l(x)}$$\n",
        "\n",
        "\n",
        "$p_k(x) = Pr(Y = k|X = x)$ - *апостериорная* вероятность того, что наблюдение $X = x$ принадлежит *k*му классу.\n"
      ]
    },
    {
      "cell_type": "markdown",
      "metadata": {
        "id": "KkKL6dcHMzZn"
      },
      "source": [
        "LDA позволяет нам вычислить апостериорную вероятность того, что наблюдаемая выборка, $x$, принадлежит к некоторому классу $y = 0, 1$, т.е. $p_y(x) := \\mathbb{P}[Y=y|X=x]$. Применяя теорему Байеса, получаем: $$p_y(x) = \\frac{\\pi_y f_y(x)}{\\pi_0 f_0(x) + \\pi_1 f_1(x)}$$ где $f_y = \\mathbb{P}[X=x|Y=y]$ - плотность случайного вектора $X = (X_{sex},...,X_{parch})$. Чтобы вычислить $p_y$, нам нужно оценить следующие распределения в правой части:\n",
        "1.   Априорные вероятности $\\pi_0 = Pr(Y = 0),\\pi_1 = Pr(Y = 1)$ как доли погибших и выживших.\n",
        "2.   LDA предполагает: $f_y(x)\\sim$ многомерной нормальной плотности с идентичной ковариационной матрицей для каждого класса, $\\sum_{y=0} = \\sum_{y=1} \\in \\mathbb{R}^{6\\times 6}$.\n",
        "\n",
        "В действительности мы получаем $X_{\\mathrm{sex}, y} \\sim \\mathrm{Bern}(p_y), X_{\\mathrm{age}, y} \\sim N(\\mu_y, \\sigma_y^2), X_{\\mathrm{parch},y} \\sim \\mathrm{Poisson}(\\lambda_y)$, и т.д.\n",
        "\n",
        "О случае негауссовых распределений см. [эту дискуссию](https://stats.stackexchange.com/a/110954/114581). Объяснение в [ESL](https://web.stanford.edu/~hastie/ElemStatLearn/printings/ESLII_print12.pdf) 4.3:\n",
        "> Since this derivation of the LDA direction via least squares does not use a\n",
        "Gaussian assumption for the features, its applicability extends beyond the\n",
        "realm of Gaussian data. However the derivation of the particular intercept\n",
        "or cut-point given in (4.11) does require Gaussian data. Thus it makes\n",
        "sense to instead choose the cut-point that empirically minimizes training\n",
        "error for a given dataset.\n",
        "\n",
        "Итак, рассматривая наблюдение $x$ (во всех признаках), мы вычисляем $p_0(x),p_1(x)$ и относим $x$ к классу с наибольшей апостериорной вероятностью. Вот и все. Вы можете видеть, что это легко применимо для любого числа классов, в то время как логистическая регрессия так не может.\n"
      ]
    },
    {
      "cell_type": "markdown",
      "metadata": {
        "id": "6MYO6bJUi-hx"
      },
      "source": [
        "## Задание 5.1\n",
        "\n",
        "1.  Оцените априорные вероятности $\\pi_0, \\pi_1$.\n",
        "2.  Оцените $X_{\\mathrm{sex},y=1} \\sim \\mathrm{Bern}(p)$, если $p$ - вероятность обнаружить женщин среди выживших.\n",
        "3.  Оцените среднее и дисперсию для `age` среди погибших и выживших пассажиров.\n"
      ]
    },
    {
      "cell_type": "markdown",
      "metadata": {
        "id": "8puvHmrhkrTU"
      },
      "source": [
        "# Подготовка данных для LDA"
      ]
    },
    {
      "cell_type": "code",
      "metadata": {
        "id": "84MDAvRe_w_B"
      },
      "source": [
        "from sklearn.discriminant_analysis import LinearDiscriminantAnalysis\n",
        "from sklearn.metrics import accuracy_score, confusion_matrix, classification_report\n",
        "from sklearn.model_selection import KFold\n",
        "from sklearn.model_selection import cross_val_score"
      ],
      "execution_count": null,
      "outputs": []
    },
    {
      "cell_type": "code",
      "metadata": {
        "id": "IhWW5IIlfPkI",
        "colab": {
          "base_uri": "https://localhost:8080/"
        },
        "outputId": "310c0000-dc2b-49e0-a196-63c45e0b8fd3"
      },
      "source": [
        "X_train, X_test, y_train, y_test = tts(\n",
        "    df_filtered.drop([\"srv\"], axis=1), df_filtered[\"srv\"], test_size=0.3,\n",
        "    random_state=0\n",
        ")\n",
        "\n",
        "print(\"Train: input shape is \", X_train.shape, \"output shape is \", y_train.shape)\n",
        "print(\"Test: input shape is \", X_test.shape, \"output shape is \", y_test.shape)\n",
        "print(\"Unique values of targets (should be 0 or 1):\", np.unique(y_train))"
      ],
      "execution_count": null,
      "outputs": [
        {
          "output_type": "stream",
          "text": [
            "Train: input shape is  (623, 9) output shape is  (623,)\n",
            "Test: input shape is  (268, 9) output shape is  (268,)\n",
            "Unique values of targets (should be 0 or 1): [0 1]\n"
          ],
          "name": "stdout"
        }
      ]
    },
    {
      "cell_type": "code",
      "metadata": {
        "id": "WOWC0OGyngZO"
      },
      "source": [
        "k_fold = KFold(n_splits=5, shuffle=True, random_state=0)\n",
        "\n",
        "def acc_score(model):\n",
        "    return np.mean(cross_val_score(model, X_train, y_train, cv=k_fold, scoring=\"accuracy\"))"
      ],
      "execution_count": null,
      "outputs": []
    },
    {
      "cell_type": "code",
      "metadata": {
        "id": "n1IqkGy5iKNW",
        "colab": {
          "base_uri": "https://localhost:8080/"
        },
        "outputId": "0d8df513-e3c1-4488-e68b-0afa14102bdf"
      },
      "source": [
        "lda = LinearDiscriminantAnalysis()\n",
        "lda.fit(X_train, y_train)\n",
        "\n",
        "print(\"\\nAccuracy: \" + str(acc_score(lda)))"
      ],
      "execution_count": null,
      "outputs": [
        {
          "output_type": "execute_result",
          "data": {
            "text/plain": [
              "LinearDiscriminantAnalysis(n_components=None, priors=None, shrinkage=None,\n",
              "                           solver='svd', store_covariance=False, tol=0.0001)"
            ]
          },
          "metadata": {
            "tags": []
          },
          "execution_count": 37
        },
        {
          "output_type": "stream",
          "text": [
            "\n",
            "Accuracy: 0.7881548387096775\n"
          ],
          "name": "stdout"
        }
      ]
    },
    {
      "cell_type": "code",
      "metadata": {
        "id": "LIGtKqZzlNaf"
      },
      "source": [
        "probas_test = lda.predict_proba(X_test)"
      ],
      "execution_count": null,
      "outputs": []
    },
    {
      "cell_type": "code",
      "metadata": {
        "id": "wBXMzQ8upv1w",
        "colab": {
          "base_uri": "https://localhost:8080/"
        },
        "outputId": "63d1093e-af99-46e7-d07f-cee639988d66"
      },
      "source": [
        "probas_test[:10]"
      ],
      "execution_count": null,
      "outputs": [
        {
          "output_type": "execute_result",
          "data": {
            "text/plain": [
              "array([[0.9008, 0.0992],\n",
              "       [0.9377, 0.0623],\n",
              "       [0.9341, 0.0659],\n",
              "       [0.0304, 0.9696],\n",
              "       [0.2525, 0.7475],\n",
              "       [0.5643, 0.4357],\n",
              "       [0.0536, 0.9464],\n",
              "       [0.0462, 0.9538],\n",
              "       [0.5006, 0.4994],\n",
              "       [0.2067, 0.7933]])"
            ]
          },
          "metadata": {
            "tags": []
          },
          "execution_count": 17
        }
      ]
    },
    {
      "cell_type": "code",
      "metadata": {
        "id": "CU25izw4ljte"
      },
      "source": [
        "y_pred = lda.predict(X_test)"
      ],
      "execution_count": null,
      "outputs": []
    },
    {
      "cell_type": "code",
      "metadata": {
        "id": "AiXNSTI8mVAy",
        "colab": {
          "base_uri": "https://localhost:8080/"
        },
        "outputId": "f9ae6c6a-5491-4ac7-9f24-e0a22f4a6608"
      },
      "source": [
        "y_pred = lda.predict(X_test)\n",
        "accuracy_score(y_test, y_pred)"
      ],
      "execution_count": null,
      "outputs": [
        {
          "output_type": "execute_result",
          "data": {
            "text/plain": [
              "0.7947761194029851"
            ]
          },
          "metadata": {
            "tags": []
          },
          "execution_count": 19
        }
      ]
    },
    {
      "cell_type": "markdown",
      "metadata": {
        "id": "U6AvOtsS_WrC"
      },
      "source": [
        "# Квадратичный дискриминационный анализ (QDA)\n",
        "Уравнение для QDA:\n",
        "$$ \\Large \\delta_k (x)= \\rm -{1 \\over 2} (x - \\mu_x)^T \\rm {\\sum_k^{-1}} (x- \\mu_k) \\rm -{1 \\over 2} \\rm {\\log |{\\sum_k}}| + \\log{\\pi_k}$$.\n",
        "\n",
        "QDA предполагает многомерную нормаль для вектора признаков каждого класса, но с различными ковариационными матрицами, $\\sum_{y=0} \\neq \\sum_{y=1}, \\sum_{y} \\in \\mathbb{R}^{6\\times 6}$.\n",
        "\n",
        "Априорные вероятности и средние значения те же, что и в LDA, но ковариации (не показаны) вычисляются отдельно для каждого класса $y = 0, 1$."
      ]
    },
    {
      "cell_type": "code",
      "metadata": {
        "id": "lXkLSFBSndz_"
      },
      "source": [
        "from sklearn.discriminant_analysis import QuadraticDiscriminantAnalysis\n",
        "from sklearn.metrics import confusion_matrix, classification_report\n",
        "from sklearn.model_selection import train_test_split"
      ],
      "execution_count": null,
      "outputs": []
    },
    {
      "cell_type": "code",
      "metadata": {
        "id": "hwNYZ2xyoAUc",
        "colab": {
          "base_uri": "https://localhost:8080/"
        },
        "outputId": "413ca653-1019-429b-efd6-cd467d9c9fe4"
      },
      "source": [
        "qda = QuadraticDiscriminantAnalysis()\n",
        "qda.fit(X_train, y_train)\n",
        "\n",
        "# print(\"\\nAccuracy: \" + str(acc_score(qda)))"
      ],
      "execution_count": null,
      "outputs": [
        {
          "output_type": "execute_result",
          "data": {
            "text/plain": [
              "QuadraticDiscriminantAnalysis(priors=None, reg_param=0.0,\n",
              "                              store_covariance=False, tol=0.0001)"
            ]
          },
          "metadata": {
            "tags": []
          },
          "execution_count": 21
        }
      ]
    },
    {
      "cell_type": "code",
      "metadata": {
        "id": "rEpCLCpHnJCV",
        "colab": {
          "base_uri": "https://localhost:8080/"
        },
        "outputId": "a659d19d-4336-4be7-bca4-46d84456738c"
      },
      "source": [
        "y_pred = qda.predict(X_test)\n",
        "accuracy_score(y_test, y_pred)"
      ],
      "execution_count": null,
      "outputs": [
        {
          "output_type": "execute_result",
          "data": {
            "text/plain": [
              "0.7985074626865671"
            ]
          },
          "metadata": {
            "tags": []
          },
          "execution_count": 22
        }
      ]
    },
    {
      "cell_type": "code",
      "metadata": {
        "id": "EyjXi9w4wqPb",
        "colab": {
          "base_uri": "https://localhost:8080/"
        },
        "outputId": "d05bff88-0b39-434d-de12-bdc0eb10df5d"
      },
      "source": [
        "import numpy as np\n",
        "from sklearn.discriminant_analysis import LinearDiscriminantAnalysis as LDA\n",
        "lda = LDA()\n",
        "lda.fit(X_train, y_train)\n",
        "\n",
        "y_pred = lda.predict(X_test)\n",
        "print(\"\\nAccuracy:\", accuracy_score(y_test, y_pred))"
      ],
      "execution_count": null,
      "outputs": [
        {
          "output_type": "execute_result",
          "data": {
            "text/plain": [
              "LinearDiscriminantAnalysis(n_components=None, priors=None, shrinkage=None,\n",
              "                           solver='svd', store_covariance=False, tol=0.0001)"
            ]
          },
          "metadata": {
            "tags": []
          },
          "execution_count": 42
        },
        {
          "output_type": "stream",
          "text": [
            "\n",
            "Accuracy: 0.7947761194029851\n"
          ],
          "name": "stdout"
        }
      ]
    },
    {
      "cell_type": "markdown",
      "metadata": {
        "id": "TG-P4iLjz42K"
      },
      "source": [
        "# k ближайших соседей (kNN)\n",
        "\n",
        "kNN - это непараметрический метод оценки. Он не делает никаких предположений о распределении границы принятия решения. В случае, когда искомая граница принятия решения нелинейна, kNN должен превосходить логистическую регрессию и LDA.\n",
        "\n",
        "Два основных недостатка kNN:\n",
        "* kNN не выcчитывает важность признаков (нет таблицы коэффициентов)\n",
        "* Нужно прогнать для каждого $k=1,2,...,K$, количества соседей, чтобы определить \"лучший\" $k$."
      ]
    },
    {
      "cell_type": "code",
      "metadata": {
        "id": "XdA4yWFN97Zi",
        "colab": {
          "base_uri": "https://localhost:8080/"
        },
        "outputId": "07b4b1e5-81c3-407a-8d92-656cbdf4b821"
      },
      "source": [
        "from sklearn.neighbors import KNeighborsClassifier\n",
        "knn = KNeighborsClassifier(n_neighbors=30)\n",
        "knn.fit(X_train, y_train)\n",
        "pred = knn.predict(X_test)\n",
        "\n",
        "print(\"Accuracy: \" + str(acc_score(knn)))"
      ],
      "execution_count": null,
      "outputs": [
        {
          "output_type": "execute_result",
          "data": {
            "text/plain": [
              "KNeighborsClassifier(algorithm='auto', leaf_size=30, metric='minkowski',\n",
              "                     metric_params=None, n_jobs=None, n_neighbors=30, p=2,\n",
              "                     weights='uniform')"
            ]
          },
          "metadata": {
            "tags": []
          },
          "execution_count": 24
        },
        {
          "output_type": "stream",
          "text": [
            "Accuracy: 0.6356774193548387\n"
          ],
          "name": "stdout"
        }
      ]
    },
    {
      "cell_type": "code",
      "metadata": {
        "id": "2eBdBJhOOksN",
        "colab": {
          "base_uri": "https://localhost:8080/"
        },
        "outputId": "2d88b659-990f-42f3-8b74-d06da92372ff"
      },
      "source": [
        "print(\"Accuracy:{}\".format(accuracy_score(y_test,pred)))"
      ],
      "execution_count": null,
      "outputs": [
        {
          "output_type": "stream",
          "text": [
            "Accuracy:0.7126865671641791\n"
          ],
          "name": "stdout"
        }
      ]
    },
    {
      "cell_type": "markdown",
      "metadata": {
        "id": "GtPxQgrZSiG4"
      },
      "source": [
        "Оптимизируем модель, найдя оптимальное значение $K$."
      ]
    },
    {
      "cell_type": "code",
      "metadata": {
        "id": "E6R_wvNqPLO5",
        "colab": {
          "base_uri": "https://localhost:8080/"
        },
        "outputId": "0f2f1f38-3709-4ba6-aaee-ba3d71b4bc3b"
      },
      "source": [
        "# Список нечётных k для kNN\n",
        "neighbors = list(range(1,40,2))\n",
        "\n",
        "cv_scores = [ ]\n",
        "\n",
        "# 10-фолдовая кросс-валидация\n",
        "for K in neighbors:\n",
        "    knn = KNeighborsClassifier(n_neighbors = K)\n",
        "    scores = cross_val_score(knn, X_train, y_train, cv = 10, scoring = \"accuracy\")\n",
        "\n",
        "    knn.fit(X_train, y_train)\n",
        "    pred = knn.predict(X_test)\n",
        "    \n",
        "    cv_scores.append(accuracy_score(y_test,pred))"
      ],
      "execution_count": null,
      "outputs": [
        {
          "output_type": "execute_result",
          "data": {
            "text/plain": [
              "KNeighborsClassifier(algorithm='auto', leaf_size=30, metric='minkowski',\n",
              "                     metric_params=None, n_jobs=None, n_neighbors=1, p=2,\n",
              "                     weights='uniform')"
            ]
          },
          "metadata": {
            "tags": []
          },
          "execution_count": 26
        },
        {
          "output_type": "execute_result",
          "data": {
            "text/plain": [
              "KNeighborsClassifier(algorithm='auto', leaf_size=30, metric='minkowski',\n",
              "                     metric_params=None, n_jobs=None, n_neighbors=3, p=2,\n",
              "                     weights='uniform')"
            ]
          },
          "metadata": {
            "tags": []
          },
          "execution_count": 26
        },
        {
          "output_type": "execute_result",
          "data": {
            "text/plain": [
              "KNeighborsClassifier(algorithm='auto', leaf_size=30, metric='minkowski',\n",
              "                     metric_params=None, n_jobs=None, n_neighbors=5, p=2,\n",
              "                     weights='uniform')"
            ]
          },
          "metadata": {
            "tags": []
          },
          "execution_count": 26
        },
        {
          "output_type": "execute_result",
          "data": {
            "text/plain": [
              "KNeighborsClassifier(algorithm='auto', leaf_size=30, metric='minkowski',\n",
              "                     metric_params=None, n_jobs=None, n_neighbors=7, p=2,\n",
              "                     weights='uniform')"
            ]
          },
          "metadata": {
            "tags": []
          },
          "execution_count": 26
        },
        {
          "output_type": "execute_result",
          "data": {
            "text/plain": [
              "KNeighborsClassifier(algorithm='auto', leaf_size=30, metric='minkowski',\n",
              "                     metric_params=None, n_jobs=None, n_neighbors=9, p=2,\n",
              "                     weights='uniform')"
            ]
          },
          "metadata": {
            "tags": []
          },
          "execution_count": 26
        },
        {
          "output_type": "execute_result",
          "data": {
            "text/plain": [
              "KNeighborsClassifier(algorithm='auto', leaf_size=30, metric='minkowski',\n",
              "                     metric_params=None, n_jobs=None, n_neighbors=11, p=2,\n",
              "                     weights='uniform')"
            ]
          },
          "metadata": {
            "tags": []
          },
          "execution_count": 26
        },
        {
          "output_type": "execute_result",
          "data": {
            "text/plain": [
              "KNeighborsClassifier(algorithm='auto', leaf_size=30, metric='minkowski',\n",
              "                     metric_params=None, n_jobs=None, n_neighbors=13, p=2,\n",
              "                     weights='uniform')"
            ]
          },
          "metadata": {
            "tags": []
          },
          "execution_count": 26
        },
        {
          "output_type": "execute_result",
          "data": {
            "text/plain": [
              "KNeighborsClassifier(algorithm='auto', leaf_size=30, metric='minkowski',\n",
              "                     metric_params=None, n_jobs=None, n_neighbors=15, p=2,\n",
              "                     weights='uniform')"
            ]
          },
          "metadata": {
            "tags": []
          },
          "execution_count": 26
        },
        {
          "output_type": "execute_result",
          "data": {
            "text/plain": [
              "KNeighborsClassifier(algorithm='auto', leaf_size=30, metric='minkowski',\n",
              "                     metric_params=None, n_jobs=None, n_neighbors=17, p=2,\n",
              "                     weights='uniform')"
            ]
          },
          "metadata": {
            "tags": []
          },
          "execution_count": 26
        },
        {
          "output_type": "execute_result",
          "data": {
            "text/plain": [
              "KNeighborsClassifier(algorithm='auto', leaf_size=30, metric='minkowski',\n",
              "                     metric_params=None, n_jobs=None, n_neighbors=19, p=2,\n",
              "                     weights='uniform')"
            ]
          },
          "metadata": {
            "tags": []
          },
          "execution_count": 26
        },
        {
          "output_type": "execute_result",
          "data": {
            "text/plain": [
              "KNeighborsClassifier(algorithm='auto', leaf_size=30, metric='minkowski',\n",
              "                     metric_params=None, n_jobs=None, n_neighbors=21, p=2,\n",
              "                     weights='uniform')"
            ]
          },
          "metadata": {
            "tags": []
          },
          "execution_count": 26
        },
        {
          "output_type": "execute_result",
          "data": {
            "text/plain": [
              "KNeighborsClassifier(algorithm='auto', leaf_size=30, metric='minkowski',\n",
              "                     metric_params=None, n_jobs=None, n_neighbors=23, p=2,\n",
              "                     weights='uniform')"
            ]
          },
          "metadata": {
            "tags": []
          },
          "execution_count": 26
        },
        {
          "output_type": "execute_result",
          "data": {
            "text/plain": [
              "KNeighborsClassifier(algorithm='auto', leaf_size=30, metric='minkowski',\n",
              "                     metric_params=None, n_jobs=None, n_neighbors=25, p=2,\n",
              "                     weights='uniform')"
            ]
          },
          "metadata": {
            "tags": []
          },
          "execution_count": 26
        },
        {
          "output_type": "execute_result",
          "data": {
            "text/plain": [
              "KNeighborsClassifier(algorithm='auto', leaf_size=30, metric='minkowski',\n",
              "                     metric_params=None, n_jobs=None, n_neighbors=27, p=2,\n",
              "                     weights='uniform')"
            ]
          },
          "metadata": {
            "tags": []
          },
          "execution_count": 26
        },
        {
          "output_type": "execute_result",
          "data": {
            "text/plain": [
              "KNeighborsClassifier(algorithm='auto', leaf_size=30, metric='minkowski',\n",
              "                     metric_params=None, n_jobs=None, n_neighbors=29, p=2,\n",
              "                     weights='uniform')"
            ]
          },
          "metadata": {
            "tags": []
          },
          "execution_count": 26
        },
        {
          "output_type": "execute_result",
          "data": {
            "text/plain": [
              "KNeighborsClassifier(algorithm='auto', leaf_size=30, metric='minkowski',\n",
              "                     metric_params=None, n_jobs=None, n_neighbors=31, p=2,\n",
              "                     weights='uniform')"
            ]
          },
          "metadata": {
            "tags": []
          },
          "execution_count": 26
        },
        {
          "output_type": "execute_result",
          "data": {
            "text/plain": [
              "KNeighborsClassifier(algorithm='auto', leaf_size=30, metric='minkowski',\n",
              "                     metric_params=None, n_jobs=None, n_neighbors=33, p=2,\n",
              "                     weights='uniform')"
            ]
          },
          "metadata": {
            "tags": []
          },
          "execution_count": 26
        },
        {
          "output_type": "execute_result",
          "data": {
            "text/plain": [
              "KNeighborsClassifier(algorithm='auto', leaf_size=30, metric='minkowski',\n",
              "                     metric_params=None, n_jobs=None, n_neighbors=35, p=2,\n",
              "                     weights='uniform')"
            ]
          },
          "metadata": {
            "tags": []
          },
          "execution_count": 26
        },
        {
          "output_type": "execute_result",
          "data": {
            "text/plain": [
              "KNeighborsClassifier(algorithm='auto', leaf_size=30, metric='minkowski',\n",
              "                     metric_params=None, n_jobs=None, n_neighbors=37, p=2,\n",
              "                     weights='uniform')"
            ]
          },
          "metadata": {
            "tags": []
          },
          "execution_count": 26
        },
        {
          "output_type": "execute_result",
          "data": {
            "text/plain": [
              "KNeighborsClassifier(algorithm='auto', leaf_size=30, metric='minkowski',\n",
              "                     metric_params=None, n_jobs=None, n_neighbors=39, p=2,\n",
              "                     weights='uniform')"
            ]
          },
          "metadata": {
            "tags": []
          },
          "execution_count": 26
        }
      ]
    },
    {
      "cell_type": "code",
      "metadata": {
        "id": "c7yJVHYZPLUa",
        "colab": {
          "base_uri": "https://localhost:8080/",
          "height": 391
        },
        "outputId": "df3072b3-a0ab-4c00-9e47-b9494bc78bb1"
      },
      "source": [
        "def plot_accuracy(knn_list_scores):\n",
        "    pd.DataFrame({\"K\":[i for i in neighbors], \"Accuracy\":knn_list_scores}).set_index(\"K\").plot.bar(figsize=(9,6))\n",
        "    plt.ylabel('Accuracy')\n",
        "    plt.show()\n",
        "\n",
        "plot_accuracy(cv_scores)\n",
        "\n",
        "# del cv_scores"
      ],
      "execution_count": null,
      "outputs": [
        {
          "output_type": "display_data",
          "data": {
            "image/png": "[encoded data removed]",
            "text/plain": [
              "<Figure size 648x432 with 1 Axes>"
            ]
          },
          "metadata": {
            "tags": [],
            "needs_background": "light"
          }
        }
      ]
    },
    {
      "cell_type": "markdown",
      "metadata": {
        "id": "dkQ4JU50_eLi"
      },
      "source": [
        "# Сравнение методов классификации"
      ]
    },
    {
      "cell_type": "markdown",
      "metadata": {
        "id": "Bc9m9tuuUQGY"
      },
      "source": [
        "Давайте напишем несколько функций, чтобы облегчить вычисление соответствующих оценок и построение графиков."
      ]
    },
    {
      "cell_type": "code",
      "metadata": {
        "id": "SLaH3I3DTcqW"
      },
      "source": [
        "from sklearn.metrics import confusion_matrix\n",
        "\n",
        "def confusion_matrix_model(model_used):\n",
        "    cm = confusion_matrix(y_test, model_used.predict(X_test))\n",
        "    col = [\"Predicted Dead\", \"Predicted Survived\"]\n",
        "    cm = pd.DataFrame(cm)\n",
        "    cm.columns = [\"Predicted Dead\", \"Predicted Survived\"]\n",
        "    cm.index = [\"Actual Dead\",\"Actual Survived\"]\n",
        "    cm[col] = np.around(cm[col].div(cm[col].sum(axis=1), axis=0), decimals=2)\n",
        "    return cm"
      ],
      "execution_count": null,
      "outputs": []
    },
    {
      "cell_type": "code",
      "metadata": {
        "id": "M0Sn2_NjUntk"
      },
      "source": [
        "from sklearn import metrics\n",
        "\n",
        "def aucscore(model, has_proba=True):\n",
        "    if has_proba:\n",
        "        fpr, tpr, thresh = metrics.roc_curve(y_test, model.predict_proba(X_test)[:,1])\n",
        "        # fpr, tpr, thresholds = metrics.roc_curve(y, scores, pos_label=2)\n",
        "    else:\n",
        "        fpr, tpr, thresh = metrics.roc_curve(y_test, model.decision_function(X_test))\n",
        "    x = fpr\n",
        "    y = tpr\n",
        "    auc = metrics.auc(x, y)\n",
        "    return auc\n",
        "\n",
        "def plt_roc_curve(name, model, has_proba=True):\n",
        "    if has_proba:\n",
        "        fpr, tpr, thresh = metrics.roc_curve(y_test, model.predict_proba(X_test)[:,1])\n",
        "    else:\n",
        "        fpr, tpr, thresh = metrics.roc_curve(y_test, model.decision_function(X_test))\n",
        "    x = fpr\n",
        "    y = tpr\n",
        "    auc = metrics.auc(x, y)\n",
        "    plt.figure(figsize=(8,8))\n",
        "    plt.plot(x, y, label='ROC curve for %s (AUC = %0.2f)' % (name, auc))\n",
        "    plt.plot([0, 1], [0, 1], 'k--')\n",
        "    plt.xlim((0,1))\n",
        "    plt.ylim((0,1))\n",
        "    plt.xlabel(\"False Positive Rate\")\n",
        "    plt.ylabel(\"True Positive Rate\")\n",
        "    plt.title(\"ROC Curve\")\n",
        "    plt.legend(loc=\"lower right\")\n",
        "    plt.show()"
      ],
      "execution_count": null,
      "outputs": []
    },
    {
      "cell_type": "markdown",
      "metadata": {
        "id": "SujJ0rFfZofO"
      },
      "source": [
        "Прогоним данные через наши модели ещё раз:"
      ]
    },
    {
      "cell_type": "code",
      "metadata": {
        "id": "Ju-UcLgNaMDZ",
        "colab": {
          "base_uri": "https://localhost:8080/"
        },
        "outputId": "5b78d271-bc4d-4153-c867-3822ed49fc1d"
      },
      "source": [
        "# LDA\n",
        "lda.fit(X_train, y_train)\n",
        "\n",
        "# QDA\n",
        "qda.fit(X_train, y_train)\n",
        "\n",
        "# kNN\n",
        "knn = KNeighborsClassifier(n_neighbors=19)\n",
        "knn.fit(X_train, y_train)"
      ],
      "execution_count": null,
      "outputs": [
        {
          "output_type": "execute_result",
          "data": {
            "text/plain": [
              "LinearDiscriminantAnalysis(n_components=None, priors=None, shrinkage=None,\n",
              "                           solver='svd', store_covariance=False, tol=0.0001)"
            ]
          },
          "metadata": {
            "tags": []
          },
          "execution_count": 30
        },
        {
          "output_type": "execute_result",
          "data": {
            "text/plain": [
              "QuadraticDiscriminantAnalysis(priors=None, reg_param=0.0,\n",
              "                              store_covariance=False, tol=0.0001)"
            ]
          },
          "metadata": {
            "tags": []
          },
          "execution_count": 30
        },
        {
          "output_type": "execute_result",
          "data": {
            "text/plain": [
              "KNeighborsClassifier(algorithm='auto', leaf_size=30, metric='minkowski',\n",
              "                     metric_params=None, n_jobs=None, n_neighbors=19, p=2,\n",
              "                     weights='uniform')"
            ]
          },
          "metadata": {
            "tags": []
          },
          "execution_count": 30
        }
      ]
    },
    {
      "cell_type": "code",
      "metadata": {
        "id": "qIfbVszo_VoR",
        "colab": {
          "base_uri": "https://localhost:8080/"
        },
        "outputId": "efc73b78-8a91-4269-b485-5587e3f27462"
      },
      "source": [
        "from sklearn.linear_model import LogisticRegression\n",
        "\n",
        "log = LogisticRegression(C=1e-5, max_iter=2, solver='liblinear')\n",
        "log.fit(X_train, y_train)\n",
        "\n",
        "log2 = LogisticRegression(max_iter=1000)\n",
        "log2.fit(X_train, y_train)"
      ],
      "execution_count": null,
      "outputs": [
        {
          "output_type": "stream",
          "text": [
            "/usr/local/lib/python3.7/dist-packages/sklearn/svm/_base.py:947: ConvergenceWarning: Liblinear failed to converge, increase the number of iterations.\n",
            "  \"the number of iterations.\", ConvergenceWarning)\n"
          ],
          "name": "stderr"
        },
        {
          "output_type": "execute_result",
          "data": {
            "text/plain": [
              "LogisticRegression(C=1e-05, class_weight=None, dual=False, fit_intercept=True,\n",
              "                   intercept_scaling=1, l1_ratio=None, max_iter=2,\n",
              "                   multi_class='auto', n_jobs=None, penalty='l2',\n",
              "                   random_state=None, solver='liblinear', tol=0.0001, verbose=0,\n",
              "                   warm_start=False)"
            ]
          },
          "metadata": {
            "tags": []
          },
          "execution_count": 31
        },
        {
          "output_type": "execute_result",
          "data": {
            "text/plain": [
              "LogisticRegression(C=1.0, class_weight=None, dual=False, fit_intercept=True,\n",
              "                   intercept_scaling=1, l1_ratio=None, max_iter=1000,\n",
              "                   multi_class='auto', n_jobs=None, penalty='l2',\n",
              "                   random_state=None, solver='lbfgs', tol=0.0001, verbose=0,\n",
              "                   warm_start=False)"
            ]
          },
          "metadata": {
            "tags": []
          },
          "execution_count": 31
        }
      ]
    },
    {
      "cell_type": "code",
      "metadata": {
        "id": "FRbVd-ADVIYT",
        "colab": {
          "base_uri": "https://localhost:8080/",
          "height": 608
        },
        "outputId": "787a3b1f-3e15-46c1-c897-5e4913fd5ac6"
      },
      "source": [
        "confusion_matrix_model(lda)\n",
        "plt_roc_curve(\"LDA\", lda, has_proba=True)"
      ],
      "execution_count": null,
      "outputs": [
        {
          "output_type": "execute_result",
          "data": {
            "text/html": [
              "<div>\n",
              "<style scoped>\n",
              "    .dataframe tbody tr th:only-of-type {\n",
              "        vertical-align: middle;\n",
              "    }\n",
              "\n",
              "    .dataframe tbody tr th {\n",
              "        vertical-align: top;\n",
              "    }\n",
              "\n",
              "    .dataframe thead th {\n",
              "        text-align: right;\n",
              "    }\n",
              "</style>\n",
              "<table border=\"1\" class=\"dataframe\">\n",
              "  <thead>\n",
              "    <tr style=\"text-align: right;\">\n",
              "      <th></th>\n",
              "      <th>Predicted Dead</th>\n",
              "      <th>Predicted Survived</th>\n",
              "    </tr>\n",
              "  </thead>\n",
              "  <tbody>\n",
              "    <tr>\n",
              "      <th>Actual Dead</th>\n",
              "      <td>0.84</td>\n",
              "      <td>0.16</td>\n",
              "    </tr>\n",
              "    <tr>\n",
              "      <th>Actual Survived</th>\n",
              "      <td>0.28</td>\n",
              "      <td>0.72</td>\n",
              "    </tr>\n",
              "  </tbody>\n",
              "</table>\n",
              "</div>"
            ],
            "text/plain": [
              "                 Predicted Dead  Predicted Survived\n",
              "Actual Dead      0.84            0.16              \n",
              "Actual Survived  0.28            0.72              "
            ]
          },
          "metadata": {
            "tags": []
          },
          "execution_count": 33
        },
        {
          "output_type": "display_data",
          "data": {
            "image/png": "[encoded data removed]",
            "text/plain": [
              "<Figure size 576x576 with 1 Axes>"
            ]
          },
          "metadata": {
            "tags": [],
            "needs_background": "light"
          }
        }
      ]
    },
    {
      "cell_type": "code",
      "metadata": {
        "id": "wPSByyZeYTsy",
        "colab": {
          "base_uri": "https://localhost:8080/",
          "height": 608
        },
        "outputId": "c47924db-cb30-4356-f814-b7b196381584"
      },
      "source": [
        "confusion_matrix_model(qda)\n",
        "plt_roc_curve(\"QDA\", qda, has_proba=True)"
      ],
      "execution_count": null,
      "outputs": [
        {
          "output_type": "execute_result",
          "data": {
            "text/html": [
              "<div>\n",
              "<style scoped>\n",
              "    .dataframe tbody tr th:only-of-type {\n",
              "        vertical-align: middle;\n",
              "    }\n",
              "\n",
              "    .dataframe tbody tr th {\n",
              "        vertical-align: top;\n",
              "    }\n",
              "\n",
              "    .dataframe thead th {\n",
              "        text-align: right;\n",
              "    }\n",
              "</style>\n",
              "<table border=\"1\" class=\"dataframe\">\n",
              "  <thead>\n",
              "    <tr style=\"text-align: right;\">\n",
              "      <th></th>\n",
              "      <th>Predicted Dead</th>\n",
              "      <th>Predicted Survived</th>\n",
              "    </tr>\n",
              "  </thead>\n",
              "  <tbody>\n",
              "    <tr>\n",
              "      <th>Actual Dead</th>\n",
              "      <td>0.83</td>\n",
              "      <td>0.17</td>\n",
              "    </tr>\n",
              "    <tr>\n",
              "      <th>Actual Survived</th>\n",
              "      <td>0.26</td>\n",
              "      <td>0.74</td>\n",
              "    </tr>\n",
              "  </tbody>\n",
              "</table>\n",
              "</div>"
            ],
            "text/plain": [
              "                 Predicted Dead  Predicted Survived\n",
              "Actual Dead      0.83            0.17              \n",
              "Actual Survived  0.26            0.74              "
            ]
          },
          "metadata": {
            "tags": []
          },
          "execution_count": 34
        },
        {
          "output_type": "display_data",
          "data": {
            "image/png": "[encoded data removed]",
            "text/plain": [
              "<Figure size 576x576 with 1 Axes>"
            ]
          },
          "metadata": {
            "tags": [],
            "needs_background": "light"
          }
        }
      ]
    },
    {
      "cell_type": "code",
      "metadata": {
        "id": "4e5N12r7YT0I",
        "colab": {
          "base_uri": "https://localhost:8080/",
          "height": 608
        },
        "outputId": "b9050a53-3de9-4a4c-8a53-3b31f01915ff"
      },
      "source": [
        "confusion_matrix_model(knn)\n",
        "plt_roc_curve(\"KNN\", knn, has_proba=True)"
      ],
      "execution_count": null,
      "outputs": [
        {
          "output_type": "execute_result",
          "data": {
            "text/html": [
              "<div>\n",
              "<style scoped>\n",
              "    .dataframe tbody tr th:only-of-type {\n",
              "        vertical-align: middle;\n",
              "    }\n",
              "\n",
              "    .dataframe tbody tr th {\n",
              "        vertical-align: top;\n",
              "    }\n",
              "\n",
              "    .dataframe thead th {\n",
              "        text-align: right;\n",
              "    }\n",
              "</style>\n",
              "<table border=\"1\" class=\"dataframe\">\n",
              "  <thead>\n",
              "    <tr style=\"text-align: right;\">\n",
              "      <th></th>\n",
              "      <th>Predicted Dead</th>\n",
              "      <th>Predicted Survived</th>\n",
              "    </tr>\n",
              "  </thead>\n",
              "  <tbody>\n",
              "    <tr>\n",
              "      <th>Actual Dead</th>\n",
              "      <td>0.89</td>\n",
              "      <td>0.11</td>\n",
              "    </tr>\n",
              "    <tr>\n",
              "      <th>Actual Survived</th>\n",
              "      <td>0.64</td>\n",
              "      <td>0.36</td>\n",
              "    </tr>\n",
              "  </tbody>\n",
              "</table>\n",
              "</div>"
            ],
            "text/plain": [
              "                 Predicted Dead  Predicted Survived\n",
              "Actual Dead      0.89            0.11              \n",
              "Actual Survived  0.64            0.36              "
            ]
          },
          "metadata": {
            "tags": []
          },
          "execution_count": 35
        },
        {
          "output_type": "display_data",
          "data": {
            "image/png": "[encoded data removed]",
            "text/plain": [
              "<Figure size 576x576 with 1 Axes>"
            ]
          },
          "metadata": {
            "tags": [],
            "needs_background": "light"
          }
        }
      ]
    },
    {
      "cell_type": "markdown",
      "metadata": {
        "id": "XGsetaZ0d4N_"
      },
      "source": [
        "## Упражнение 5.2\n",
        "\n",
        "Отобразите ROC-кривые для LDA, QDA и kNN на одном графике."
      ]
    },
    {
      "cell_type": "markdown",
      "metadata": {
        "id": "BmzAN0jbKdoN"
      },
      "source": [
        "## Упражнение 5.3 (бонусные баллы)\n",
        "\n",
        "Придумайте модель классификации, которая будет иметь ROC AUC не менее 0.87."
      ]
    }
  ]
}